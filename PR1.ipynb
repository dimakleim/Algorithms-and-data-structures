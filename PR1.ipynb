{
  "nbformat": 4,
  "nbformat_minor": 0,
  "metadata": {
    "colab": {
      "name": "LR1.ipynb",
      "provenance": [],
      "collapsed_sections": []
    },
    "kernelspec": {
      "name": "python3",
      "display_name": "Python 3"
    }
  },
  "cells": [
    {
      "cell_type": "markdown",
      "metadata": {
        "id": "g0RlQRQwT9zB",
        "colab_type": "text"
      },
      "source": [
        "###Вариант выполнения задания с выводом графиков\n",
        "\n",
        "\n",
        "\n",
        "\n",
        "\n",
        "\n",
        "\n"
      ]
    },
    {
      "cell_type": "code",
      "metadata": {
        "id": "6u676kDLScFo",
        "colab_type": "code",
        "colab": {
          "base_uri": "https://localhost:8080/",
          "height": 1000
        },
        "outputId": "89987148-9b6e-4e65-bc42-ed3a8ec30239"
      },
      "source": [
        "import numpy as np\n",
        "import matplotlib.pyplot as plt\n",
        "from datetime import datetime\n",
        "from time import time\n",
        "\n",
        "def search_posled(massive, x):\n",
        "    nX = -1\n",
        "    for i in range(len(massive)):\n",
        "        if massive[i]==x:\n",
        "            nX = i\n",
        "            break\n",
        "\n",
        "def search_binar(massive, x):\n",
        "    mid = len(massive) // 2\n",
        "    low = 0\n",
        "    high = len(massive) - 1\n",
        " \n",
        "    while massive[mid] != x and low <= high:\n",
        "        if x > massive[mid]:\n",
        "            low = mid + 1\n",
        "        else:\n",
        "            high = mid - 1\n",
        "        mid = (low + high) // 2\n",
        "\n",
        "def search_intpol(massive, x):\n",
        "    idx0 = 0\n",
        "    idxn = (len(massive) - 1)\n",
        "\n",
        "    while idx0 <= idxn and x >= massive[idx0] and x <= massive[idxn]:\n",
        "        mid = idx0 + int(((float(idxn - idx0)/(massive[idxn] - massive[idx0])) * (x - massive[idx0])))\n",
        "        if massive[mid] == x:\n",
        "            return\n",
        "\n",
        "        if massive[mid] < x:\n",
        "            idx0 = mid + 1\n",
        "\n",
        "def search_fib(massive, x):\n",
        "    n = len(massive)\n",
        "    m2, m1 = 0, 1 \n",
        "    m = m2 + m1 \n",
        "    while (m < n):\n",
        "        m2, m1 = m1, m\n",
        "        m = m2 + m1\n",
        "    mid = -1;\n",
        "    while (m > 1):\n",
        "        i = min(mid+m2, n-1)\n",
        "        if (massive[i] < x):\n",
        "            m, m1 = m1, m2\n",
        "            m2 = m - m1\n",
        "            mid = i\n",
        "        elif (massive[i] > x):\n",
        "            m = m2\n",
        "            m1 = m1 - m2\n",
        "            m2 = m - m1\n",
        "        else:\n",
        "            return\n",
        "\n",
        "\n",
        "n = 1000000\n",
        "massive = []\n",
        "for j in range(n):\n",
        "    massive.append(j)\n",
        "\n",
        "algoritms_name = [\"Последовательный\\nпоиск\", \"Бинарный\\nпоиск\",\n",
        "                  \"Интерполяционный\\nпоиск\", \"Фибоначчиев\\nпоиск\"]\n",
        "algoritms_func = [search_posled, search_binar,\n",
        "                  search_intpol, search_fib]\n",
        "time_list = np.zeros ((4, 3))\n",
        "element_ids = [0, int(len(massive) / 2), int(len(massive) - 1)]\n",
        "for i in range (4):\n",
        "    func = algoritms_func[i]\n",
        "    for j, ind in enumerate (element_ids):\n",
        "        starttime = time()\n",
        "        func (massive, massive[ind])\n",
        "        time_list [i][j] = (time() - starttime) * 1000000\n",
        "  \n",
        "for i in range (3):\n",
        "    plt.figure()\n",
        "    plt.ylabel(\"Время\")\n",
        "    plt.bar (algoritms_name[1:], time_list[1:,i]) \n",
        "\n",
        "plt.figure()\n",
        "plt.ylabel(\"Время\")\n",
        "plt.bar ([\"Первый\\nэлемент\", \"Медианное\\nзначение\", \"Последний\\nэлемент\"], time_list[0]);"
      ],
      "execution_count": 35,
      "outputs": [
        {
          "output_type": "display_data",
          "data": {
            "image/png": "[encoded data removed]",
            "text/plain": [
              "<Figure size 432x288 with 1 Axes>"
            ]
          },
          "metadata": {
            "tags": [],
            "needs_background": "light"
          }
        },
        {
          "output_type": "display_data",
          "data": {
            "image/png": "[encoded data removed]",
            "text/plain": [
              "<Figure size 432x288 with 1 Axes>"
            ]
          },
          "metadata": {
            "tags": [],
            "needs_background": "light"
          }
        },
        {
          "output_type": "display_data",
          "data": {
            "image/png": "[encoded data removed]",
            "text/plain": [
              "<Figure size 432x288 with 1 Axes>"
            ]
          },
          "metadata": {
            "tags": [],
            "needs_background": "light"
          }
        },
        {
          "output_type": "display_data",
          "data": {
            "image/png": "[encoded data removed]",
            "text/plain": [
              "<Figure size 432x288 with 1 Axes>"
            ]
          },
          "metadata": {
            "tags": [],
            "needs_background": "light"
          }
        }
      ]
    },
    {
      "cell_type": "markdown",
      "metadata": {
        "id": "S6fCAb9bUdWI",
        "colab_type": "text"
      },
      "source": [
        "###Вариант выполнения задания с вводом искомого числа"
      ]
    },
    {
      "cell_type": "code",
      "metadata": {
        "id": "lPZl5q9JOBLe",
        "colab_type": "code",
        "outputId": "d17440c3-f300-481b-e3d5-b6a199ee1b79",
        "colab": {
          "base_uri": "https://localhost:8080/",
          "height": 257
        }
      },
      "source": [
        "from datetime import datetime\n",
        "\n",
        "def search_posled(massive, x):\n",
        "    nX = -1\n",
        "    for i in range(len(massive)):\n",
        "        if massive[i]==x:\n",
        "            nX = i\n",
        "            break\n",
        "    if nX != -1:\n",
        "        print(\"Нашли под номером\",nX)\n",
        "    else:\n",
        "        print(\"Не нашли\")\n",
        "\n",
        "def search_binar(massive, x):\n",
        "    mid = len(massive) // 2\n",
        "    low = 0\n",
        "    high = len(massive) - 1\n",
        " \n",
        "    while massive[mid] != x and low <= high:\n",
        "        if x > massive[mid]:\n",
        "            low = mid + 1\n",
        "        else:\n",
        "            high = mid - 1\n",
        "        mid = (low + high) // 2\n",
        " \n",
        "    if low > high:\n",
        "        print(\"Не нашли\")\n",
        "    else:\n",
        "        print(\"Нашли под номером\", mid)\n",
        "\n",
        "def search_intpol(massive, x):\n",
        "    idx0 = 0\n",
        "    idxn = (len(massive) - 1)\n",
        "\n",
        "    while idx0 <= idxn and x >= massive[idx0] and x <= massive[idxn]:\n",
        "        mid = idx0 + int(((float(idxn - idx0)/(massive[idxn] - massive[idx0])) * (x - massive[idx0])))\n",
        "        if massive[mid] == x:\n",
        "            print (\"Нашли под номером\", mid)\n",
        "            return\n",
        "\n",
        "        if massive[mid] < x:\n",
        "            idx0 = mid + 1\n",
        "    print (\"Не нашли\")\n",
        "\n",
        "def search_fib(massive, x):\n",
        "    n = len(massive)\n",
        "    m2, m1 = 0, 1 \n",
        "    m = m2 + m1 \n",
        "    while (m < n):\n",
        "        m2, m1 = m1, m\n",
        "        m = m2 + m1\n",
        "    mid = -1;\n",
        "    while (m > 1):\n",
        "        i = min(mid+m2, n-1)\n",
        "        if (massive[i] < x):\n",
        "            m, m1 = m1, m2\n",
        "            m2 = m - m1\n",
        "            mid = i\n",
        "        elif (massive[i] > x):\n",
        "            m = m2\n",
        "            m1 = m1 - m2\n",
        "            m2 = m - m1\n",
        "        else:\n",
        "            print(\"Нашли под номером\", i)\n",
        "            return\n",
        "    if ((m1 != 0) and (n < mid + 1) and (massive[mid+1] == x)):\n",
        "        print(\"Нашли под номером\", mid+1)\n",
        "    else:\n",
        "        print(\"Не нашли\")\n",
        "\n",
        "try:\n",
        "    n = int(input('Введите число элементов в массиве (от 1), n = '))\n",
        "    while (n <= 0):\n",
        "        n = int(input(\"По условию n >= 1. Повторите ввод: \"))\n",
        "    x = int(input('Введите искомое число, x = '))\n",
        "\n",
        "    massive = []\n",
        "    for j in range(n):\n",
        "        massive.append(j)\n",
        "\n",
        "except ValueError:\n",
        "    print ('Введенные данные некорректны, должно быть целое положительное число ')\n",
        "\n",
        "starttime = datetime.now().microsecond\n",
        "print (\"Последовательный поиск:\")\n",
        "search_posled(massive, x)\n",
        "print (\"Затраченное время = \", datetime.now().microsecond - starttime, \"мкс\")\n",
        "starttime = datetime.now().microsecond\n",
        "print (\"Бинарный поиск:\")\n",
        "search_binar(massive, x)\n",
        "print (\"Затраченное время = \", datetime.now().microsecond - starttime, \"мкс\")\n",
        "starttime = datetime.now().microsecond\n",
        "print (\"Интерполяционный поиск:\")\n",
        "search_intpol(massive, x)\n",
        "print (\"Затраченное время = \", datetime.now().microsecond - starttime, \"мкс\")\n",
        "starttime = datetime.now().microsecond\n",
        "print (\"Фибоначчиев поиск:\")\n",
        "search_fib(massive, x)\n",
        "print (\"Затраченное время = \", datetime.now().microsecond - starttime, \"мкс\")"
      ],
      "execution_count": 32,
      "outputs": [
        {
          "output_type": "stream",
          "text": [
            "Введите число элементов в массиве (от 1), n = 15252\n",
            "Введите искомое число, x = 55\n",
            "Последовательный поиск:\n",
            "Нашли под номером 55\n",
            "Затраченное время =  910 мкс\n",
            "Бинарный поиск:\n",
            "Нашли под номером 55\n",
            "Затраченное время =  196 мкс\n",
            "Интерполяционный поиск:\n",
            "Нашли под номером 55\n",
            "Затраченное время =  197 мкс\n",
            "Фибоначчиев поиск:\n",
            "Нашли под номером 55\n",
            "Затраченное время =  232 мкс\n"
          ],
          "name": "stdout"
        }
      ]
    }
  ]
}