{
  "nbformat": 4,
  "nbformat_minor": 0,
  "metadata": {
    "colab": {
      "name": "PR6",
      "provenance": []
    },
    "kernelspec": {
      "name": "python3",
      "display_name": "Python 3"
    }
  },
  "cells": [
    {
      "cell_type": "code",
      "metadata": {
        "id": "5nsaKb47-Hbs",
        "colab_type": "code",
        "colab": {
          "base_uri": "https://localhost:8080/",
          "height": 34
        },
        "outputId": "1957506f-a211-4707-d12e-c2cf14eaf481"
      },
      "source": [
        "graph = {\n",
        "  'A' : ['B','C'],\n",
        "  'B' : ['D', 'E'],\n",
        "  'C' : ['F'],\n",
        "  'D' : [],\n",
        "  'E' : ['F'],\n",
        "  'F' : []\n",
        "}\n",
        "\n",
        "visited = [] \n",
        "queue = []\n",
        "\n",
        "def bfs(visited, graph, node):\n",
        "  visited.append(node)\n",
        "  queue.append(node)\n",
        "\n",
        "  while queue:\n",
        "    s = queue.pop(0)\n",
        "    print (s, end = \" \")\n",
        "\n",
        "    for neighbour in graph[s]:\n",
        "      if neighbour not in visited:\n",
        "        visited.append(neighbour)\n",
        "        queue.append(neighbour)\n",
        "\n",
        "bfs(visited, graph, 'A')"
      ],
      "execution_count": 23,
      "outputs": [
        {
          "output_type": "stream",
          "text": [
            "A B C D E F "
          ],
          "name": "stdout"
        }
      ]
    },
    {
      "cell_type": "code",
      "metadata": {
        "id": "FbHtrEIdaniW",
        "colab_type": "code",
        "colab": {
          "base_uri": "https://localhost:8080/",
          "height": 34
        },
        "outputId": "bd4b0635-6f7c-48d9-ae46-1191150eb49b"
      },
      "source": [
        "def printPath(Data, parent): \n",
        "    if parent[Data] == Data: \n",
        "        return\n",
        "    printPath(parent[Data], parent) \n",
        "    print(parent[Data], end = \" \") \n",
        "\n",
        "def leftMostShortest(root): \n",
        "    q = []\n",
        "    q.append(root)\n",
        "    LeafData = -1\n",
        "    temp = None\n",
        "    parent = {}\n",
        "    parent[root.data] = root.data \n",
        "    while len(q) != 0: \n",
        "        temp = q.pop(0)\n",
        "        if not temp.left and not temp.right:\n",
        "            LeafData = temp.data\n",
        "            break\n",
        "        else: \n",
        "            if temp.left: \n",
        "                q.append(temp.left) \n",
        "                parent[temp.left.data] = temp.data\n",
        "            if temp.right:\n",
        "                q.append(temp.right)\n",
        "                parent[temp.right.data] = temp.data \n",
        "    printPath(LeafData, parent) \n",
        "    print(LeafData, end = \" \")\n",
        "\n",
        "root = Node(1) \n",
        "root.left = Node(2) \n",
        "root.right = Node(3) \n",
        "root.left.left = Node(4) \n",
        "root.right.left = Node(5) \n",
        "root.right.right = Node(7) \n",
        "root.left.left.left = Node(10) \n",
        "root.left.left.right = Node(11) \n",
        "root.right.right.left = Node(8)\n",
        "leftMostShortest(root)"
      ],
      "execution_count": 21,
      "outputs": [
        {
          "output_type": "stream",
          "text": [
            "1 3 5 "
          ],
          "name": "stdout"
        }
      ]
    },
    {
      "cell_type": "code",
      "metadata": {
        "id": "S9mix_e7kpSM",
        "colab_type": "code",
        "colab": {}
      },
      "source": [
        ""
      ],
      "execution_count": 0,
      "outputs": []
    }
  ]
}