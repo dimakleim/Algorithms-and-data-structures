{
  "nbformat": 4,
  "nbformat_minor": 0,
  "metadata": {
    "colab": {
      "name": "LR2Algorithms.ipynb",
      "provenance": []
    },
    "kernelspec": {
      "name": "python3",
      "display_name": "Python 3"
    }
  },
  "cells": [
    {
      "cell_type": "code",
      "metadata": {
        "id": "gCFggRyy04qY",
        "colab_type": "code",
        "outputId": "71a0725c-f496-4db0-9030-becbee23c3d4",
        "colab": {
          "base_uri": "https://localhost:8080/",
          "height": 69
        }
      },
      "source": [
        "import math\n",
        "\n",
        "def find_y (x, r):\n",
        "  if x >= -8 and x <= -5:\n",
        "    return -3\n",
        "  elif x > -5 and x <= -3:\n",
        "    return  x + 3\n",
        "  elif x > -3 and x <= 3:\n",
        "    return math.sqrt (r**2 - x**2)\n",
        "  elif x > 3 and x <= 8:\n",
        "    return (x - 3) * (3 / 5)\n",
        "  elif x > 8 and x <= 10:\n",
        "    return 3\n",
        "\n",
        "x = float(input(\"Введите x \"))\n",
        "r = float(input(\"Введите r \"))\n",
        "y = find_y (x, r)\n",
        "if y == None:\n",
        "  print (\"x за пределами графика\")\n",
        "else:\n",
        "  print (\"Координата y=\", y)"
      ],
      "execution_count": 0,
      "outputs": [
        {
          "output_type": "stream",
          "text": [
            "Введите x -10\n",
            "Введите r 3\n",
            "x за пределами графика\n"
          ],
          "name": "stdout"
        }
      ]
    },
    {
      "cell_type": "code",
      "metadata": {
        "id": "WbmJQSu2Kjh3",
        "colab_type": "code",
        "colab": {
          "base_uri": "https://localhost:8080/",
          "height": 87
        },
        "outputId": "729eeea9-0db7-4664-8b1d-fde432c468b6"
      },
      "source": [
        "def darts(x, y):\n",
        "  r = float(input(\"Введите координату R=\"))\n",
        "  while (True):\n",
        "    if r < 0:\n",
        "      r = float(input(\"Радиус не может быть меньше 0, повторите ввод \"))\n",
        "    if r >= 0:\n",
        "      break \n",
        "  if x <= 0:\n",
        "    if x >= -r and y >= -r:\n",
        "      if (-r-x)**2 + (-r-y)**2 >= r**2: \n",
        "        return (True)\n",
        "  else:\n",
        "    if (r-x)**2 + y**2 <= r**2: \n",
        "      if y >= 0:\n",
        "        return (True)\n",
        "\n",
        "x = float(input(\"Введите координату x=\"))\n",
        "y = float(input(\"Введите координату y=\"))\n",
        "if darts(x, y):\n",
        "  print(\"Точка с координатами (\", x, \",\", y, \") попала в область.\")\n",
        "else:\n",
        "  print(\"Точка с координатами (\", x, \",\", y, \") не попала в область.\")"
      ],
      "execution_count": 40,
      "outputs": [
        {
          "output_type": "stream",
          "text": [
            "Введите координату x=2\n",
            "Введите координату y=-1\n",
            "Введите координату R=2\n",
            "Точка с координатами ( 2.0 , -1.0 ) не попала в область.\n"
          ],
          "name": "stdout"
        }
      ]
    }
  ]
}