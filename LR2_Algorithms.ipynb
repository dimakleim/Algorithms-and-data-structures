{
  "nbformat": 4,
  "nbformat_minor": 0,
  "metadata": {
    "colab": {
      "name": "LR2Algorithms.ipynb",
      "provenance": []
    },
    "kernelspec": {
      "name": "python3",
      "display_name": "Python 3"
    }
  },
  "cells": [
    {
      "cell_type": "code",
      "metadata": {
        "id": "gCFggRyy04qY",
        "colab_type": "code",
        "outputId": "71a0725c-f496-4db0-9030-becbee23c3d4",
        "colab": {
          "base_uri": "https://localhost:8080/",
          "height": 69
        }
      },
      "source": [
        "import math\n",
        "\n",
        "def find_y (x, r):\n",
        "  if x >= -8 and x <= -5:\n",
        "    return -3\n",
        "  elif x > -5 and x <= -3:\n",
        "    return  x + 3\n",
        "  elif x > -3 and x <= 3:\n",
        "    return math.sqrt (r**2 - x**2)\n",
        "  elif x > 3 and x <= 8:\n",
        "    return (x - 3) * (3 / 5)\n",
        "  elif x > 8 and x <= 10:\n",
        "    return 3\n",
        "\n",
        "x = float (input(\"Введите x \"))\n",
        "r = float (input(\"Введите r \"))\n",
        "y = find_y (x, r)\n",
        "if y == None:\n",
        "  print (\"x за пределами графика\")\n",
        "else:\n",
        "  print (\"Координата y=\", y)"
      ],
      "execution_count": 0,
      "outputs": [
        {
          "output_type": "stream",
          "text": [
            "Введите x -10\n",
            "Введите r 3\n",
            "x за пределами графика\n"
          ],
          "name": "stdout"
        }
      ]
    }
  ]
}