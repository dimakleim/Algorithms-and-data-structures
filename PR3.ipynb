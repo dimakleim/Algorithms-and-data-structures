{
  "nbformat": 4,
  "nbformat_minor": 0,
  "metadata": {
    "colab": {
      "name": "PR3.ipynb",
      "provenance": []
    },
    "kernelspec": {
      "name": "python3",
      "display_name": "Python 3"
    }
  },
  "cells": [
    {
      "cell_type": "code",
      "metadata": {
        "id": "66sImj9LNfLX",
        "colab_type": "code",
        "outputId": "4f331795-4170-4db4-8e97-4fdb49c85b42",
        "colab": {
          "base_uri": "https://localhost:8080/",
          "height": 137
        }
      },
      "source": [
        "from dataclasses import dataclass\n",
        "from typing import List\n",
        "\n",
        "@dataclass\n",
        "class PInfo:\n",
        "    name: str = \" \"\n",
        "    phone: str = \" \"  \n",
        "\n",
        "@dataclass\n",
        "class RecordHash:\n",
        "    info: PInfo\n",
        "    empty: bool = True\n",
        "    visit: bool = False\n",
        "\n",
        "class MyHash:\n",
        "    hash_table: List[RecordHash]\n",
        "    info: PInfo\n",
        "\n",
        "    def __init__(self, size_table):\n",
        "        self.size_table = size_table\n",
        "        self.info = TInfo()\n",
        "        self.hash_table = [RecordHash(info=self.info) for _ in range(self.size_table)]\n",
        "        self.size = 0\n",
        "        self.step = 21\n",
        "\n",
        "    def __hash_func(self, x):\n",
        "        result = 0\n",
        "        for i in range(len(x)):\n",
        "            result += int(x[i]) * i\n",
        "            result //= self.size_table\n",
        "        return result\n",
        "\n",
        "    def add_hash(self, name: str, phone: str):\n",
        "        pos = -1\n",
        "        if self.size < self.size_table:\n",
        "            pos = self.__hash_func(phone)\n",
        "            while not self.hash_table[pos].empty:\n",
        "                pos = (pos + self.step) // self.size_table\n",
        "            self.hash_table[pos].empty = False\n",
        "            self.hash_table[pos].visit = True\n",
        "            contact = PInfo(phone=phone, name=name)\n",
        "            self.hash_table[pos].info = contact\n",
        "            self.size += 1\n",
        "        return pos\n",
        "\n",
        "    def __clear_visit(self):\n",
        "        for i in self.hash_table:\n",
        "            i.visit = False\n",
        "\n",
        "    def search_hash(self, phone: str):\n",
        "        result = -1\n",
        "        ok: bool\n",
        "        name = \" \"\n",
        "        count = 1\n",
        "        self.__clear_visit()\n",
        "        i = self.__hash_func(phone)\n",
        "        ok = self.hash_table[i].info.phone == phone\n",
        "        while not ok and not self.hash_table[i].visit:\n",
        "            count += 1\n",
        "            self.hash_table[i].visit = True\n",
        "            i = (i + self.step) // self.size_table\n",
        "            ok = self.hash_table[i].info.phone == phone\n",
        "        if ok:\n",
        "            result = i\n",
        "            name = self.hash_table[i].info.name\n",
        "        return result\n",
        "\n",
        "    def del_hash(self, phone: str):\n",
        "        result = False\n",
        "        i = 0\n",
        "        if self.size != 0:\n",
        "            i = self.__hash_func(phone)\n",
        "            if self.hash_table[i].info.phone == phone:\n",
        "                self.hash_table[i].empty = True\n",
        "                result = True\n",
        "                self.size -= 1\n",
        "            else:\n",
        "                i = self.search_hash(phone)\n",
        "                if (i != -1):\n",
        "                    self.hash_table[i].empty = True\n",
        "                    result = True\n",
        "                    self.size -= 1\n",
        "        return result\n",
        "\n",
        "    def __str__(self):\n",
        "        out = \"\"\n",
        "        head = \"{:<5}{:<25}{:<25}\".format(\"N\", \"NAME\", \"PHONE\")\n",
        "        out += head\n",
        "        out += \"\\n\"\n",
        "        for i in range(self.size_table):\n",
        "            name: str = self.hash_table[i].info.name\n",
        "            phone: str = self.hash_table[i].info.phone\n",
        "            string = \"{:<5}{:<25}{:<25}\".format(i + 1, name, phone)\n",
        "            out += string\n",
        "            out += \"\\n\"\n",
        "        return out\n",
        "\n",
        "table = MyHash(5)\n",
        "table.add_hash(\"Dmitry Klejmenkin\", \"89000000000\")\n",
        "print(table)"
      ],
      "execution_count": 7,
      "outputs": [
        {
          "output_type": "stream",
          "text": [
            "N    NAME                     PHONE                    \n",
            "1    Dmitry Klejmenkin        89000000000              \n",
            "2                                                      \n",
            "3                                                      \n",
            "4                                                      \n",
            "5                                                      \n",
            "\n"
          ],
          "name": "stdout"
        }
      ]
    },
    {
      "cell_type": "code",
      "metadata": {
        "id": "ekPTjjeL90Bz",
        "colab_type": "code",
        "colab": {}
      },
      "source": [
        ""
      ],
      "execution_count": 0,
      "outputs": []
    }
  ]
}