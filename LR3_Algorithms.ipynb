{
  "nbformat": 4,
  "nbformat_minor": 0,
  "metadata": {
    "colab": {
      "name": "LR3_Algorithms.ipynb",
      "provenance": []
    },
    "kernelspec": {
      "name": "python3",
      "display_name": "Python 3"
    }
  },
  "cells": [
    {
      "cell_type": "code",
      "metadata": {
        "id": "pkpZG7R4BxY6",
        "colab_type": "code",
        "colab": {}
      },
      "source": [
        "import math\n",
        "\n",
        "def find_y (x, r):\n",
        "  if x >= -8 and x <= -5:\n",
        "    return -3\n",
        "  elif x > -5 and x <= -3:\n",
        "    return  x + 3\n",
        "  elif x > -3 and x <= 3:\n",
        "    return math.sqrt (r**2 - x**2)\n",
        "  elif x > 3 and x <= 8:\n",
        "    return (x - 3) * (3 / 5)\n",
        "  elif x > 8 and x <= 10:\n",
        "    return 3\n",
        "\n",
        "r = float(input(\"Введите r \"))\n",
        "while (r < 0):\n",
        "  r = float(input(\"Радиус не может быть меньше 0, повторите ввод \"))\n",
        "print ('x:    y:')\n",
        "for i in range (-8, 11):\n",
        "  print (str(i) + '    ' + str(find_y (i, r)))"
      ],
      "execution_count": 0,
      "outputs": []
    },
    {
      "cell_type": "code",
      "metadata": {
        "id": "tobuSN0CJSHC",
        "colab_type": "code",
        "colab": {}
      },
      "source": [
        "def darts(x, y, r):\n",
        "  if x <= 0:\n",
        "    if x >= -r and y >= -r:\n",
        "      if (-r-x)**2 + (-r-y)**2 >= r**2: \n",
        "        return (True)\n",
        "  else:\n",
        "    if (r-x)**2 + y**2 <= r**2: \n",
        "      if y >= 0:\n",
        "        return (True)\n",
        "\n",
        "r = float(input(\"Введите координату R=\"))\n",
        "while (r < 0):\n",
        "  r = float(input(\"Радиус не может быть меньше 0, повторите ввод \"))\n",
        "for i in range (10):\n",
        "  x = float(input(\"Введите координату x=\"))\n",
        "  y = float(input(\"Введите координату y=\"))\n",
        "  if darts(x, y, r):\n",
        "    print(\"Точка с координатами (\", x, \",\", y, \") попала в область.\")\n",
        "  else:\n",
        "    print(\"Точка с координатами (\", x, \",\", y, \") не попала в область.\")"
      ],
      "execution_count": 0,
      "outputs": []
    },
    {
      "cell_type": "code",
      "metadata": {
        "id": "EYTeAeEOPLSP",
        "colab_type": "code",
        "colab": {}
      },
      "source": [
        ""
      ],
      "execution_count": 0,
      "outputs": []
    }
  ]
}