{
  "nbformat": 4,
  "nbformat_minor": 0,
  "metadata": {
    "colab": {
      "name": "LR1_Algorithms.ipynb",
      "provenance": []
    },
    "kernelspec": {
      "name": "python3",
      "display_name": "Python 3"
    }
  },
  "cells": [
    {
      "cell_type": "code",
      "metadata": {
        "id": "53beqgpNdAOV",
        "colab_type": "code",
        "outputId": "5eea6b13-2e78-4819-b00e-b01ef615be4b",
        "colab": {
          "base_uri": "https://localhost:8080/",
          "height": 35
        }
      },
      "source": [
        "import math\n",
        "\n",
        "a = 10\n",
        "z1 = math.cos(a) + math.cos(2*a,) + math.cos(6*a) + math.cos(7*a)\n",
        "z2 = 4 * math.cos(a/2) * math.cos(5*a/2) * math.cos(4*a)\n",
        "print (\"z1 =\", z1, \"z2 =\", z2)  "
      ],
      "execution_count": 0,
      "outputs": [
        {
          "output_type": "stream",
          "text": [
            "z1 = -0.7500832445919169 z2 = -0.7500832445919169\n"
          ],
          "name": "stdout"
        }
      ]
    }
  ]
}