{
  "nbformat": 4,
  "nbformat_minor": 0,
  "metadata": {
    "colab": {
      "name": "PR2.ipynb",
      "provenance": []
    },
    "kernelspec": {
      "name": "python3",
      "display_name": "Python 3"
    }
  },
  "cells": [
    {
      "cell_type": "code",
      "metadata": {
        "id": "V94d1jrSxsGK",
        "colab_type": "code",
        "colab": {
          "base_uri": "https://localhost:8080/",
          "height": 123
        },
        "outputId": "bae3d01a-8e6b-49ca-c05f-b6e3e0e9f413"
      },
      "source": [
        "from datetime import datetime\n",
        "import random\n",
        "\n",
        "#Сортировка выбором:\n",
        "def select_sort(nums):\n",
        "    for i in range(len(nums) - 1):\n",
        "        m = i\n",
        "        j = i + 1\n",
        "        while j < len(nums):\n",
        "            if nums[j] < nums[m]:\n",
        "                m = j\n",
        "            j = j + 1\n",
        "        nums[i], nums[m] = nums[m], nums[i]\n",
        "    return nums\n",
        "\n",
        "#Сортировка вставкой:\n",
        "#iti - элемент для вставки\n",
        "def insert_sort(nums):  \n",
        "    for i in range(1, len(nums)):\n",
        "        iti = nums[i]\n",
        "        j = i - 1\n",
        "        while j >= 0 and nums[j] > iti:\n",
        "            nums[j + 1] = nums[j]\n",
        "            j -= 1\n",
        "        nums[j + 1] = iti\n",
        "    return nums\n",
        "\n",
        "#Сортировка Шелла:\n",
        "def shell_sort(nums):\n",
        "    o = len(nums) // 2\n",
        "    while o != 0:\n",
        "        for id, el in enumerate(nums):\n",
        "            while id >= o and nums[id - o] > el:\n",
        "                nums[id] = nums[id - o]\n",
        "                id -= o\n",
        "            nums[id] = el\n",
        "        o = 1 if o == 2 else int(o * 5.0 / 11)\n",
        "    return nums\n",
        "\n",
        "#Пузырьковая сортировка:\n",
        "def bubl_sort(nums):\n",
        "    n = len(nums)\n",
        "    for i in range(n-1):\n",
        "        for j in range(n-i-1):\n",
        "            if nums[j] > nums[j+1]:\n",
        "                nums[j], nums[j+1] = nums[j+1], nums[j]\n",
        "    return nums\n",
        "\n",
        "#Быстрая сортировка - метод Хоара:\n",
        "def xoar_sort(nums):\n",
        "    if len(nums) <= 1:\n",
        "        return nums\n",
        "    else:\n",
        "        q = random.choice(nums)\n",
        "        minor_nums = [n for n in nums if n < q]\n",
        "        equal_nums = [q] * nums.count(q)\n",
        "        large_nums = [n for n in nums if n > q]\n",
        "        return xoar_sort(minor_nums) + equal_nums + xoar_sort(large_nums)\n",
        "\n",
        "try:\n",
        "    n = int(input('Введите число элементов в массиве (от 1), n = '))\n",
        "    while (n <= 0):\n",
        "        n = int(input(\"По условию n >= 1. Повторите ввод: \"))\n",
        "\n",
        "    massive = []\n",
        "    for i in range(n):\n",
        "        massive.append(random.randint (0, 99999))\n",
        "\n",
        "except ValueError:\n",
        "    print ('Введенные данные некорректны, должно быть целое положительное число ')\n",
        "\n",
        "starttime = datetime.now().microsecond\n",
        "select_sort(massive)\n",
        "print (\"Затраченное время (Выбором) = \", float(datetime.now().microsecond - starttime), \"мкс\")\n",
        "starttime = datetime.now().microsecond\n",
        "insert_sort(massive)\n",
        "print (\"Затраченное время (Вставками) = \", float(datetime.now().microsecond - starttime), \"мкс\")\n",
        "starttime = datetime.now().microsecond\n",
        "shell_sort(massive)\n",
        "print (\"Затраченное время (Шелл) = \", float(datetime.now().microsecond - starttime), \"мкс\")\n",
        "starttime = datetime.now().microsecond\n",
        "bubl_sort(massive)\n",
        "print (\"Затраченное время (Пузырьком) = \", float(datetime.now().microsecond - starttime), \"мкс\")\n",
        "starttime = datetime.now().microsecond\n",
        "xoar_sort(massive)\n",
        "print (\"Затраченное время (Хоар) = \", float(datetime.now().microsecond - starttime), \"мкс\")"
      ],
      "execution_count": 31,
      "outputs": [
        {
          "output_type": "stream",
          "text": [
            "Введите число элементов в массиве (от 1), n = 15\n",
            "Затраченное время (Выбором) =  141.0 мкс\n",
            "Затраченное время (Вставками) =  95.0 мкс\n",
            "Затраченное время (Шелл) =  97.0 мкс\n",
            "Затраченное время (Пузырьком) =  104.0 мкс\n",
            "Затраченное время (Хоар) =  146.0 мкс\n"
          ],
          "name": "stdout"
        }
      ]
    },
    {
      "cell_type": "code",
      "metadata": {
        "id": "WwxXHrfvNfWy",
        "colab_type": "code",
        "outputId": "6df76529-3752-4fc7-bcc9-634ecf4fcec9",
        "colab": {
          "base_uri": "https://localhost:8080/",
          "height": 1000
        }
      },
      "source": [
        "import numpy as np\n",
        "import matplotlib.pyplot as plt\n",
        "from datetime import datetime\n",
        "from time import time\n",
        "import random\n",
        "\n",
        "#Сортировка выбором:\n",
        "def select_sort(nums):\n",
        "    for i in range(len(nums) - 1):\n",
        "        m = i\n",
        "        j = i + 1\n",
        "        while j < len(nums):\n",
        "            if nums[j] < nums[m]:\n",
        "                m = j\n",
        "            j = j + 1\n",
        "        nums[i], nums[m] = nums[m], nums[i]\n",
        "    return nums\n",
        "\n",
        "#Сортировка вставкой:\n",
        "#iti - элемент для вставки\n",
        "def insert_sort(nums):  \n",
        "    for i in range(1, len(nums)):\n",
        "        iti = nums[i]\n",
        "        j = i - 1\n",
        "        while j >= 0 and nums[j] > iti:\n",
        "            nums[j + 1] = nums[j]\n",
        "            j -= 1\n",
        "        nums[j + 1] = iti\n",
        "    return nums\n",
        "\n",
        "#Сортировка Шелла:\n",
        "def shell_sort(nums):\n",
        "    o = len(nums) // 2\n",
        "    while o != 0:\n",
        "        for id, el in enumerate(nums):\n",
        "            while id >= o and nums[id - o] > el:\n",
        "                nums[id] = nums[id - o]\n",
        "                id -= o\n",
        "            nums[id] = el\n",
        "        o = 1 if o == 2 else int(o * 5.0 / 11)\n",
        "    return nums\n",
        "\n",
        "#Пузырьковая сортировка:\n",
        "def bubl_sort(nums):\n",
        "    n = len(nums)\n",
        "    for i in range(n-1):\n",
        "        for j in range(n-i-1):\n",
        "            if nums[j] > nums[j+1]:\n",
        "                nums[j], nums[j+1] = nums[j+1], nums[j]\n",
        "    return nums\n",
        "\n",
        "#Быстрая сортировка - метод Хоара:\n",
        "def xoar_sort(nums):\n",
        "    if len(nums) <= 1:\n",
        "        return nums\n",
        "    else:\n",
        "        q = random.choice(nums)\n",
        "        minor_nums = [n for n in nums if n < q]\n",
        "        equal_nums = [q] * nums.count(q)\n",
        "        large_nums = [n for n in nums if n > q]\n",
        "        return xoar_sort(minor_nums) + equal_nums + xoar_sort(large_nums)\n",
        "\n",
        "n = 10000\n",
        "massive = []\n",
        "for i in range(n):\n",
        "    massive.append(random.randint (0, 9999))\n",
        "\n",
        "algoritms_name = [\"Сортировка\\nвыбором\", \"Сортировка\\nвставкой\", \"Сортировка\\nШелла\",\n",
        "                  \"Пузырьковая\\nсортировка\", \"метод\\nХоара\"]\n",
        "algoritms_func = [select_sort, insert_sort, shell_sort,\n",
        "                  bubl_sort, xoar_sort]\n",
        "time_list = np.zeros ((5, 4))\n",
        "element_ids = [10, 100, 1000, 10000]\n",
        "for i in range (5):\n",
        "    func = algoritms_func[i]\n",
        "    for j, ind in enumerate (element_ids):  \n",
        "        starttime = time()\n",
        "        func (massive[:ind])\n",
        "        time_list [i][j] = (time() - starttime) * 1000000\n",
        "  \n",
        "for i in range (4):\n",
        "    plt.figure()\n",
        "    plt.ylabel(\"Время\")\n",
        "    plt.bar (algoritms_name, time_list[:, i])"
      ],
      "execution_count": 32,
      "outputs": [
        {
          "output_type": "display_data",
          "data": {
            "image/png": "[encoded data removed]",
            "text/plain": [
              "<Figure size 432x288 with 1 Axes>"
            ]
          },
          "metadata": {
            "tags": [],
            "needs_background": "light"
          }
        },
        {
          "output_type": "display_data",
          "data": {
            "image/png": "[encoded data removed]",
            "text/plain": [
              "<Figure size 432x288 with 1 Axes>"
            ]
          },
          "metadata": {
            "tags": [],
            "needs_background": "light"
          }
        },
        {
          "output_type": "display_data",
          "data": {
            "image/png": "[encoded data removed]",
            "text/plain": [
              "<Figure size 432x288 with 1 Axes>"
            ]
          },
          "metadata": {
            "tags": [],
            "needs_background": "light"
          }
        },
        {
          "output_type": "display_data",
          "data": {
            "image/png": "[encoded data removed]",
            "text/plain": [
              "<Figure size 432x288 with 1 Axes>"
            ]
          },
          "metadata": {
            "tags": [],
            "needs_background": "light"
          }
        }
      ]
    },
    {
      "cell_type": "code",
      "metadata": {
        "id": "IJYl8K8VZoHR",
        "colab_type": "code",
        "colab": {}
      },
      "source": [
        ""
      ],
      "execution_count": 0,
      "outputs": []
    }
  ]
}